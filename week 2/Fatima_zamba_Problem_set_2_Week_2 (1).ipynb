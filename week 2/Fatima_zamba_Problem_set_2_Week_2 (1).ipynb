{
  "nbformat": 4,
  "nbformat_minor": 0,
  "metadata": {
    "colab": {
      "name": "Fatima zamba - Problem set 2- Week 2",
      "provenance": [],
      "collapsed_sections": []
    },
    "kernelspec": {
      "name": "ir",
      "display_name": "R"
    },
    "language_info": {
      "name": "R"
    }
  },
  "cells": [
    {
      "cell_type": "code",
      "metadata": {
        "id": "n1-JfqJjrwXi"
      },
      "source": [
        "# Problem set 2. \n",
        "# Adapted from Statistics for linguists (Bodo Winters).\n",
        "\n",
        "\n",
        "#2.4 Let's Subset a data frame with Tidyverse Function\n",
        "\n",
        "library(tidyverse)\n",
        "\n"
      ],
      "execution_count": 2,
      "outputs": []
    },
    {
      "cell_type": "code",
      "metadata": {
        "colab": {
          "base_uri": "https://localhost:8080/",
          "height": 283
        },
        "id": "hsyndwW5uPgj",
        "outputId": "575f9734-d955-4649-bc9c-35de3b6e7bf0"
      },
      "source": [
        "#loading in the nettle data:\n",
        "nettle <- read.csv(\"/content/nettle_1999_climate.csv\")\n",
        "head(nettle)"
      ],
      "execution_count": 6,
      "outputs": [
        {
          "output_type": "display_data",
          "data": {
            "text/plain": [
              "  Country    Population Area MGS  Langs\n",
              "1 Algeria    4.41       6.38 6.60  18  \n",
              "2 Angola     4.01       6.10 6.22  42  \n",
              "3 Australia  4.24       6.89 6.00 234  \n",
              "4 Bangladesh 5.07       5.16 7.40  37  \n",
              "5 Benin      3.69       5.05 7.14  52  \n",
              "6 Bolivia    3.88       6.04 6.92  38  "
            ],
            "text/latex": "A data.frame: 6 × 5\n\\begin{tabular}{r|lllll}\n  & Country & Population & Area & MGS & Langs\\\\\n  & <chr> & <dbl> & <dbl> & <dbl> & <int>\\\\\n\\hline\n\t1 & Algeria    & 4.41 & 6.38 & 6.60 &  18\\\\\n\t2 & Angola     & 4.01 & 6.10 & 6.22 &  42\\\\\n\t3 & Australia  & 4.24 & 6.89 & 6.00 & 234\\\\\n\t4 & Bangladesh & 5.07 & 5.16 & 7.40 &  37\\\\\n\t5 & Benin      & 3.69 & 5.05 & 7.14 &  52\\\\\n\t6 & Bolivia    & 3.88 & 6.04 & 6.92 &  38\\\\\n\\end{tabular}\n",
            "text/markdown": "\nA data.frame: 6 × 5\n\n| <!--/--> | Country &lt;chr&gt; | Population &lt;dbl&gt; | Area &lt;dbl&gt; | MGS &lt;dbl&gt; | Langs &lt;int&gt; |\n|---|---|---|---|---|---|\n| 1 | Algeria    | 4.41 | 6.38 | 6.60 |  18 |\n| 2 | Angola     | 4.01 | 6.10 | 6.22 |  42 |\n| 3 | Australia  | 4.24 | 6.89 | 6.00 | 234 |\n| 4 | Bangladesh | 5.07 | 5.16 | 7.40 |  37 |\n| 5 | Benin      | 3.69 | 5.05 | 7.14 |  52 |\n| 6 | Bolivia    | 3.88 | 6.04 | 6.92 |  38 |\n\n",
            "text/html": [
              "<table class=\"dataframe\">\n",
              "<caption>A data.frame: 6 × 5</caption>\n",
              "<thead>\n",
              "\t<tr><th></th><th scope=col>Country</th><th scope=col>Population</th><th scope=col>Area</th><th scope=col>MGS</th><th scope=col>Langs</th></tr>\n",
              "\t<tr><th></th><th scope=col>&lt;chr&gt;</th><th scope=col>&lt;dbl&gt;</th><th scope=col>&lt;dbl&gt;</th><th scope=col>&lt;dbl&gt;</th><th scope=col>&lt;int&gt;</th></tr>\n",
              "</thead>\n",
              "<tbody>\n",
              "\t<tr><th scope=row>1</th><td>Algeria   </td><td>4.41</td><td>6.38</td><td>6.60</td><td> 18</td></tr>\n",
              "\t<tr><th scope=row>2</th><td>Angola    </td><td>4.01</td><td>6.10</td><td>6.22</td><td> 42</td></tr>\n",
              "\t<tr><th scope=row>3</th><td>Australia </td><td>4.24</td><td>6.89</td><td>6.00</td><td>234</td></tr>\n",
              "\t<tr><th scope=row>4</th><td>Bangladesh</td><td>5.07</td><td>5.16</td><td>7.40</td><td> 37</td></tr>\n",
              "\t<tr><th scope=row>5</th><td>Benin     </td><td>3.69</td><td>5.05</td><td>7.14</td><td> 52</td></tr>\n",
              "\t<tr><th scope=row>6</th><td>Bolivia   </td><td>3.88</td><td>6.04</td><td>6.92</td><td> 38</td></tr>\n",
              "</tbody>\n",
              "</table>\n"
            ]
          },
          "metadata": {}
        }
      ]
    },
    {
      "cell_type": "code",
      "metadata": {
        "colab": {
          "base_uri": "https://localhost:8080/",
          "height": 128
        },
        "id": "i9wJ8xepu7fj",
        "outputId": "db308bec-0220-4d1a-8420-dea3a4bb7be7"
      },
      "source": [
        "filter(nettle, Country == 'Benin')\n",
        "\n"
      ],
      "execution_count": 7,
      "outputs": [
        {
          "output_type": "display_data",
          "data": {
            "text/plain": [
              "  Country Population Area MGS  Langs\n",
              "1 Benin   3.69       5.05 7.14 52   "
            ],
            "text/latex": "A data.frame: 1 × 5\n\\begin{tabular}{lllll}\n Country & Population & Area & MGS & Langs\\\\\n <chr> & <dbl> & <dbl> & <dbl> & <int>\\\\\n\\hline\n\t Benin & 3.69 & 5.05 & 7.14 & 52\\\\\n\\end{tabular}\n",
            "text/markdown": "\nA data.frame: 1 × 5\n\n| Country &lt;chr&gt; | Population &lt;dbl&gt; | Area &lt;dbl&gt; | MGS &lt;dbl&gt; | Langs &lt;int&gt; |\n|---|---|---|---|---|\n| Benin | 3.69 | 5.05 | 7.14 | 52 |\n\n",
            "text/html": [
              "<table class=\"dataframe\">\n",
              "<caption>A data.frame: 1 × 5</caption>\n",
              "<thead>\n",
              "\t<tr><th scope=col>Country</th><th scope=col>Population</th><th scope=col>Area</th><th scope=col>MGS</th><th scope=col>Langs</th></tr>\n",
              "\t<tr><th scope=col>&lt;chr&gt;</th><th scope=col>&lt;dbl&gt;</th><th scope=col>&lt;dbl&gt;</th><th scope=col>&lt;dbl&gt;</th><th scope=col>&lt;int&gt;</th></tr>\n",
              "</thead>\n",
              "<tbody>\n",
              "\t<tr><td>Benin</td><td>3.69</td><td>5.05</td><td>7.14</td><td>52</td></tr>\n",
              "</tbody>\n",
              "</table>\n"
            ]
          },
          "metadata": {}
        }
      ]
    },
    {
      "cell_type": "code",
      "metadata": {
        "colab": {
          "base_uri": "https://localhost:8080/",
          "height": 159
        },
        "id": "ko1qUMXrv0Wh",
        "outputId": "10859f7e-0ba6-4a51-f201-06976dce92f0"
      },
      "source": [
        "filter(nettle, Country %in% c('Benin', 'Zaire'))\n"
      ],
      "execution_count": 8,
      "outputs": [
        {
          "output_type": "display_data",
          "data": {
            "text/plain": [
              "  Country Population Area MGS  Langs\n",
              "1 Benin   3.69       5.05 7.14  52  \n",
              "2 Zaire   4.56       6.37 9.44 219  "
            ],
            "text/latex": "A data.frame: 2 × 5\n\\begin{tabular}{lllll}\n Country & Population & Area & MGS & Langs\\\\\n <chr> & <dbl> & <dbl> & <dbl> & <int>\\\\\n\\hline\n\t Benin & 3.69 & 5.05 & 7.14 &  52\\\\\n\t Zaire & 4.56 & 6.37 & 9.44 & 219\\\\\n\\end{tabular}\n",
            "text/markdown": "\nA data.frame: 2 × 5\n\n| Country &lt;chr&gt; | Population &lt;dbl&gt; | Area &lt;dbl&gt; | MGS &lt;dbl&gt; | Langs &lt;int&gt; |\n|---|---|---|---|---|\n| Benin | 3.69 | 5.05 | 7.14 |  52 |\n| Zaire | 4.56 | 6.37 | 9.44 | 219 |\n\n",
            "text/html": [
              "<table class=\"dataframe\">\n",
              "<caption>A data.frame: 2 × 5</caption>\n",
              "<thead>\n",
              "\t<tr><th scope=col>Country</th><th scope=col>Population</th><th scope=col>Area</th><th scope=col>MGS</th><th scope=col>Langs</th></tr>\n",
              "\t<tr><th scope=col>&lt;chr&gt;</th><th scope=col>&lt;dbl&gt;</th><th scope=col>&lt;dbl&gt;</th><th scope=col>&lt;dbl&gt;</th><th scope=col>&lt;int&gt;</th></tr>\n",
              "</thead>\n",
              "<tbody>\n",
              "\t<tr><td>Benin</td><td>3.69</td><td>5.05</td><td>7.14</td><td> 52</td></tr>\n",
              "\t<tr><td>Zaire</td><td>4.56</td><td>6.37</td><td>9.44</td><td>219</td></tr>\n",
              "</tbody>\n",
              "</table>\n"
            ]
          },
          "metadata": {}
        }
      ]
    },
    {
      "cell_type": "code",
      "metadata": {
        "colab": {
          "base_uri": "https://localhost:8080/",
          "height": 1000
        },
        "id": "RgyPVJKAwbWF",
        "outputId": "f8d216d9-a6e4-40a8-9f8a-683fed521380"
      },
      "source": [
        "select(nettle, Langs)\n"
      ],
      "execution_count": 9,
      "outputs": [
        {
          "output_type": "display_data",
          "data": {
            "text/plain": [
              "   Langs\n",
              "1   18  \n",
              "2   42  \n",
              "3  234  \n",
              "4   37  \n",
              "5   52  \n",
              "6   38  \n",
              "7   27  \n",
              "8  209  \n",
              "9   75  \n",
              "10  94  \n",
              "11  18  \n",
              "12 275  \n",
              "13 126  \n",
              "14  79  \n",
              "15  60  \n",
              "16  10  \n",
              "17  75  \n",
              "18   1  \n",
              "19  22  \n",
              "20  11  \n",
              "21 112  \n",
              "22  11  \n",
              "23  40  \n",
              "24  73  \n",
              "25  52  \n",
              "26  29  \n",
              "27  14  \n",
              "28   9  \n",
              "29 405  \n",
              "30 701  \n",
              "⋮  ⋮    \n",
              "45   7  \n",
              "46  21  \n",
              "47 427  \n",
              "48   8  \n",
              "49  13  \n",
              "50 862  \n",
              "51  21  \n",
              "52  91  \n",
              "53 168  \n",
              "54   8  \n",
              "55  42  \n",
              "56  23  \n",
              "57  66  \n",
              "58  14  \n",
              "59  32  \n",
              "60   7  \n",
              "61 134  \n",
              "62  17  \n",
              "63 131  \n",
              "64  82  \n",
              "65  43  \n",
              "66   9  \n",
              "67  43  \n",
              "68 111  \n",
              "69  40  \n",
              "70  88  \n",
              "71   6  \n",
              "72 219  \n",
              "73  38  \n",
              "74  18  "
            ],
            "text/latex": "A data.frame: 74 × 1\n\\begin{tabular}{l}\n Langs\\\\\n <int>\\\\\n\\hline\n\t  18\\\\\n\t  42\\\\\n\t 234\\\\\n\t  37\\\\\n\t  52\\\\\n\t  38\\\\\n\t  27\\\\\n\t 209\\\\\n\t  75\\\\\n\t  94\\\\\n\t  18\\\\\n\t 275\\\\\n\t 126\\\\\n\t  79\\\\\n\t  60\\\\\n\t  10\\\\\n\t  75\\\\\n\t   1\\\\\n\t  22\\\\\n\t  11\\\\\n\t 112\\\\\n\t  11\\\\\n\t  40\\\\\n\t  73\\\\\n\t  52\\\\\n\t  29\\\\\n\t  14\\\\\n\t   9\\\\\n\t 405\\\\\n\t 701\\\\\n\t ⋮\\\\\n\t   7\\\\\n\t  21\\\\\n\t 427\\\\\n\t   8\\\\\n\t  13\\\\\n\t 862\\\\\n\t  21\\\\\n\t  91\\\\\n\t 168\\\\\n\t   8\\\\\n\t  42\\\\\n\t  23\\\\\n\t  66\\\\\n\t  14\\\\\n\t  32\\\\\n\t   7\\\\\n\t 134\\\\\n\t  17\\\\\n\t 131\\\\\n\t  82\\\\\n\t  43\\\\\n\t   9\\\\\n\t  43\\\\\n\t 111\\\\\n\t  40\\\\\n\t  88\\\\\n\t   6\\\\\n\t 219\\\\\n\t  38\\\\\n\t  18\\\\\n\\end{tabular}\n",
            "text/markdown": "\nA data.frame: 74 × 1\n\n| Langs &lt;int&gt; |\n|---|\n|  18 |\n|  42 |\n| 234 |\n|  37 |\n|  52 |\n|  38 |\n|  27 |\n| 209 |\n|  75 |\n|  94 |\n|  18 |\n| 275 |\n| 126 |\n|  79 |\n|  60 |\n|  10 |\n|  75 |\n|   1 |\n|  22 |\n|  11 |\n| 112 |\n|  11 |\n|  40 |\n|  73 |\n|  52 |\n|  29 |\n|  14 |\n|   9 |\n| 405 |\n| 701 |\n| ⋮ |\n|   7 |\n|  21 |\n| 427 |\n|   8 |\n|  13 |\n| 862 |\n|  21 |\n|  91 |\n| 168 |\n|   8 |\n|  42 |\n|  23 |\n|  66 |\n|  14 |\n|  32 |\n|   7 |\n| 134 |\n|  17 |\n| 131 |\n|  82 |\n|  43 |\n|   9 |\n|  43 |\n| 111 |\n|  40 |\n|  88 |\n|   6 |\n| 219 |\n|  38 |\n|  18 |\n\n",
            "text/html": [
              "<table class=\"dataframe\">\n",
              "<caption>A data.frame: 74 × 1</caption>\n",
              "<thead>\n",
              "\t<tr><th scope=col>Langs</th></tr>\n",
              "\t<tr><th scope=col>&lt;int&gt;</th></tr>\n",
              "</thead>\n",
              "<tbody>\n",
              "\t<tr><td> 18</td></tr>\n",
              "\t<tr><td> 42</td></tr>\n",
              "\t<tr><td>234</td></tr>\n",
              "\t<tr><td> 37</td></tr>\n",
              "\t<tr><td> 52</td></tr>\n",
              "\t<tr><td> 38</td></tr>\n",
              "\t<tr><td> 27</td></tr>\n",
              "\t<tr><td>209</td></tr>\n",
              "\t<tr><td> 75</td></tr>\n",
              "\t<tr><td> 94</td></tr>\n",
              "\t<tr><td> 18</td></tr>\n",
              "\t<tr><td>275</td></tr>\n",
              "\t<tr><td>126</td></tr>\n",
              "\t<tr><td> 79</td></tr>\n",
              "\t<tr><td> 60</td></tr>\n",
              "\t<tr><td> 10</td></tr>\n",
              "\t<tr><td> 75</td></tr>\n",
              "\t<tr><td>  1</td></tr>\n",
              "\t<tr><td> 22</td></tr>\n",
              "\t<tr><td> 11</td></tr>\n",
              "\t<tr><td>112</td></tr>\n",
              "\t<tr><td> 11</td></tr>\n",
              "\t<tr><td> 40</td></tr>\n",
              "\t<tr><td> 73</td></tr>\n",
              "\t<tr><td> 52</td></tr>\n",
              "\t<tr><td> 29</td></tr>\n",
              "\t<tr><td> 14</td></tr>\n",
              "\t<tr><td>  9</td></tr>\n",
              "\t<tr><td>405</td></tr>\n",
              "\t<tr><td>701</td></tr>\n",
              "\t<tr><td>⋮</td></tr>\n",
              "\t<tr><td>  7</td></tr>\n",
              "\t<tr><td> 21</td></tr>\n",
              "\t<tr><td>427</td></tr>\n",
              "\t<tr><td>  8</td></tr>\n",
              "\t<tr><td> 13</td></tr>\n",
              "\t<tr><td>862</td></tr>\n",
              "\t<tr><td> 21</td></tr>\n",
              "\t<tr><td> 91</td></tr>\n",
              "\t<tr><td>168</td></tr>\n",
              "\t<tr><td>  8</td></tr>\n",
              "\t<tr><td> 42</td></tr>\n",
              "\t<tr><td> 23</td></tr>\n",
              "\t<tr><td> 66</td></tr>\n",
              "\t<tr><td> 14</td></tr>\n",
              "\t<tr><td> 32</td></tr>\n",
              "\t<tr><td>  7</td></tr>\n",
              "\t<tr><td>134</td></tr>\n",
              "\t<tr><td> 17</td></tr>\n",
              "\t<tr><td>131</td></tr>\n",
              "\t<tr><td> 82</td></tr>\n",
              "\t<tr><td> 43</td></tr>\n",
              "\t<tr><td>  9</td></tr>\n",
              "\t<tr><td> 43</td></tr>\n",
              "\t<tr><td>111</td></tr>\n",
              "\t<tr><td> 40</td></tr>\n",
              "\t<tr><td> 88</td></tr>\n",
              "\t<tr><td>  6</td></tr>\n",
              "\t<tr><td>219</td></tr>\n",
              "\t<tr><td> 38</td></tr>\n",
              "\t<tr><td> 18</td></tr>\n",
              "</tbody>\n",
              "</table>\n"
            ]
          },
          "metadata": {}
        }
      ]
    },
    {
      "cell_type": "code",
      "metadata": {
        "colab": {
          "base_uri": "https://localhost:8080/",
          "height": 162
        },
        "id": "4jREjQMFwfQk",
        "outputId": "6d8d3446-eda2-416f-eaa1-b7b7aac4af2b"
      },
      "source": [
        "filter(nettle, Country == 'Benin') %>% select(Langs)\n"
      ],
      "execution_count": 10,
      "outputs": [
        {
          "output_type": "display_data",
          "data": {
            "text/plain": [
              "  Langs\n",
              "1 52   "
            ],
            "text/latex": "A data.frame: 1 × 1\n\\begin{tabular}{l}\n Langs\\\\\n <int>\\\\\n\\hline\n\t 52\\\\\n\\end{tabular}\n",
            "text/markdown": "\nA data.frame: 1 × 1\n\n| Langs &lt;int&gt; |\n|---|\n| 52 |\n\n",
            "text/html": [
              "<table class=\"dataframe\">\n",
              "<caption>A data.frame: 1 × 1</caption>\n",
              "<thead>\n",
              "\t<tr><th scope=col>Langs</th></tr>\n",
              "\t<tr><th scope=col>&lt;int&gt;</th></tr>\n",
              "</thead>\n",
              "<tbody>\n",
              "\t<tr><td>52</td></tr>\n",
              "</tbody>\n",
              "</table>\n"
            ]
          },
          "metadata": {}
        }
      ]
    },
    {
      "cell_type": "code",
      "metadata": {
        "colab": {
          "base_uri": "https://localhost:8080/",
          "height": 128
        },
        "id": "_y5cTmBnwlK4",
        "outputId": "d6cb4ec9-26f1-4338-ca38-28b3915a6263"
      },
      "source": [
        "filter(nettle, Country == 'Benin') %>%\n",
        "  select(Population:MGS)\n"
      ],
      "execution_count": 13,
      "outputs": [
        {
          "output_type": "display_data",
          "data": {
            "text/plain": [
              "  Population Area MGS \n",
              "1 3.69       5.05 7.14"
            ],
            "text/latex": "A data.frame: 1 × 3\n\\begin{tabular}{lll}\n Population & Area & MGS\\\\\n <dbl> & <dbl> & <dbl>\\\\\n\\hline\n\t 3.69 & 5.05 & 7.14\\\\\n\\end{tabular}\n",
            "text/markdown": "\nA data.frame: 1 × 3\n\n| Population &lt;dbl&gt; | Area &lt;dbl&gt; | MGS &lt;dbl&gt; |\n|---|---|---|\n| 3.69 | 5.05 | 7.14 |\n\n",
            "text/html": [
              "<table class=\"dataframe\">\n",
              "<caption>A data.frame: 1 × 3</caption>\n",
              "<thead>\n",
              "\t<tr><th scope=col>Population</th><th scope=col>Area</th><th scope=col>MGS</th></tr>\n",
              "\t<tr><th scope=col>&lt;dbl&gt;</th><th scope=col>&lt;dbl&gt;</th><th scope=col>&lt;dbl&gt;</th></tr>\n",
              "</thead>\n",
              "<tbody>\n",
              "\t<tr><td>3.69</td><td>5.05</td><td>7.14</td></tr>\n",
              "</tbody>\n",
              "</table>\n"
            ]
          },
          "metadata": {}
        }
      ]
    },
    {
      "cell_type": "code",
      "metadata": {
        "colab": {
          "base_uri": "https://localhost:8080/",
          "height": 376
        },
        "id": "Kc2YTRfDwzK3",
        "outputId": "8b253c46-3c95-4292-90bb-b7250d320d10"
      },
      "source": [
        "filter(nettle, Langs > 200)\n"
      ],
      "execution_count": 14,
      "outputs": [
        {
          "output_type": "display_data",
          "data": {
            "text/plain": [
              "  Country          Population Area MGS   Langs\n",
              "1 Australia        4.24       6.89  6.00 234  \n",
              "2 Brazil           5.19       6.93  9.71 209  \n",
              "3 Cameroon         4.09       5.68  9.17 275  \n",
              "4 India            5.93       6.52  5.32 405  \n",
              "5 Indonesia        5.27       6.28 10.67 701  \n",
              "6 Mexico           4.94       6.29  5.84 243  \n",
              "7 Nigeria          5.05       5.97  7.00 427  \n",
              "8 Papua New Guinea 3.58       5.67 10.88 862  \n",
              "9 Zaire            4.56       6.37  9.44 219  "
            ],
            "text/latex": "A data.frame: 9 × 5\n\\begin{tabular}{lllll}\n Country & Population & Area & MGS & Langs\\\\\n <chr> & <dbl> & <dbl> & <dbl> & <int>\\\\\n\\hline\n\t Australia        & 4.24 & 6.89 &  6.00 & 234\\\\\n\t Brazil           & 5.19 & 6.93 &  9.71 & 209\\\\\n\t Cameroon         & 4.09 & 5.68 &  9.17 & 275\\\\\n\t India            & 5.93 & 6.52 &  5.32 & 405\\\\\n\t Indonesia        & 5.27 & 6.28 & 10.67 & 701\\\\\n\t Mexico           & 4.94 & 6.29 &  5.84 & 243\\\\\n\t Nigeria          & 5.05 & 5.97 &  7.00 & 427\\\\\n\t Papua New Guinea & 3.58 & 5.67 & 10.88 & 862\\\\\n\t Zaire            & 4.56 & 6.37 &  9.44 & 219\\\\\n\\end{tabular}\n",
            "text/markdown": "\nA data.frame: 9 × 5\n\n| Country &lt;chr&gt; | Population &lt;dbl&gt; | Area &lt;dbl&gt; | MGS &lt;dbl&gt; | Langs &lt;int&gt; |\n|---|---|---|---|---|\n| Australia        | 4.24 | 6.89 |  6.00 | 234 |\n| Brazil           | 5.19 | 6.93 |  9.71 | 209 |\n| Cameroon         | 4.09 | 5.68 |  9.17 | 275 |\n| India            | 5.93 | 6.52 |  5.32 | 405 |\n| Indonesia        | 5.27 | 6.28 | 10.67 | 701 |\n| Mexico           | 4.94 | 6.29 |  5.84 | 243 |\n| Nigeria          | 5.05 | 5.97 |  7.00 | 427 |\n| Papua New Guinea | 3.58 | 5.67 | 10.88 | 862 |\n| Zaire            | 4.56 | 6.37 |  9.44 | 219 |\n\n",
            "text/html": [
              "<table class=\"dataframe\">\n",
              "<caption>A data.frame: 9 × 5</caption>\n",
              "<thead>\n",
              "\t<tr><th scope=col>Country</th><th scope=col>Population</th><th scope=col>Area</th><th scope=col>MGS</th><th scope=col>Langs</th></tr>\n",
              "\t<tr><th scope=col>&lt;chr&gt;</th><th scope=col>&lt;dbl&gt;</th><th scope=col>&lt;dbl&gt;</th><th scope=col>&lt;dbl&gt;</th><th scope=col>&lt;int&gt;</th></tr>\n",
              "</thead>\n",
              "<tbody>\n",
              "\t<tr><td>Australia       </td><td>4.24</td><td>6.89</td><td> 6.00</td><td>234</td></tr>\n",
              "\t<tr><td>Brazil          </td><td>5.19</td><td>6.93</td><td> 9.71</td><td>209</td></tr>\n",
              "\t<tr><td>Cameroon        </td><td>4.09</td><td>5.68</td><td> 9.17</td><td>275</td></tr>\n",
              "\t<tr><td>India           </td><td>5.93</td><td>6.52</td><td> 5.32</td><td>405</td></tr>\n",
              "\t<tr><td>Indonesia       </td><td>5.27</td><td>6.28</td><td>10.67</td><td>701</td></tr>\n",
              "\t<tr><td>Mexico          </td><td>4.94</td><td>6.29</td><td> 5.84</td><td>243</td></tr>\n",
              "\t<tr><td>Nigeria         </td><td>5.05</td><td>5.97</td><td> 7.00</td><td>427</td></tr>\n",
              "\t<tr><td>Papua New Guinea</td><td>3.58</td><td>5.67</td><td>10.88</td><td>862</td></tr>\n",
              "\t<tr><td>Zaire           </td><td>4.56</td><td>6.37</td><td> 9.44</td><td>219</td></tr>\n",
              "</tbody>\n",
              "</table>\n"
            ]
          },
          "metadata": {}
        }
      ]
    },
    {
      "cell_type": "code",
      "metadata": {
        "colab": {
          "base_uri": "https://localhost:8080/",
          "height": 128
        },
        "id": "mDjxPhnNw2c8",
        "outputId": "2b326001-8648-4598-83a5-bb1857afa2bd"
      },
      "source": [
        "filter(nettle, Langs > 200, Population < median(Population))"
      ],
      "execution_count": 15,
      "outputs": [
        {
          "output_type": "display_data",
          "data": {
            "text/plain": [
              "  Country          Population Area MGS   Langs\n",
              "1 Papua New Guinea 3.58       5.67 10.88 862  "
            ],
            "text/latex": "A data.frame: 1 × 5\n\\begin{tabular}{lllll}\n Country & Population & Area & MGS & Langs\\\\\n <chr> & <dbl> & <dbl> & <dbl> & <int>\\\\\n\\hline\n\t Papua New Guinea & 3.58 & 5.67 & 10.88 & 862\\\\\n\\end{tabular}\n",
            "text/markdown": "\nA data.frame: 1 × 5\n\n| Country &lt;chr&gt; | Population &lt;dbl&gt; | Area &lt;dbl&gt; | MGS &lt;dbl&gt; | Langs &lt;int&gt; |\n|---|---|---|---|---|\n| Papua New Guinea | 3.58 | 5.67 | 10.88 | 862 |\n\n",
            "text/html": [
              "<table class=\"dataframe\">\n",
              "<caption>A data.frame: 1 × 5</caption>\n",
              "<thead>\n",
              "\t<tr><th scope=col>Country</th><th scope=col>Population</th><th scope=col>Area</th><th scope=col>MGS</th><th scope=col>Langs</th></tr>\n",
              "\t<tr><th scope=col>&lt;chr&gt;</th><th scope=col>&lt;dbl&gt;</th><th scope=col>&lt;dbl&gt;</th><th scope=col>&lt;dbl&gt;</th><th scope=col>&lt;int&gt;</th></tr>\n",
              "</thead>\n",
              "<tbody>\n",
              "\t<tr><td>Papua New Guinea</td><td>3.58</td><td>5.67</td><td>10.88</td><td>862</td></tr>\n",
              "</tbody>\n",
              "</table>\n"
            ]
          },
          "metadata": {}
        }
      ]
    },
    {
      "cell_type": "code",
      "metadata": {
        "colab": {
          "base_uri": "https://localhost:8080/",
          "height": 1000
        },
        "id": "E-i1gnPMw39V",
        "outputId": "c91af0b2-7966-4ccb-e90c-81358c0df41f"
      },
      "source": [
        "smallcountries <- filter(nettle, Population < 4)\n",
        "smallcountries"
      ],
      "execution_count": 17,
      "outputs": [
        {
          "output_type": "display_data",
          "data": {
            "text/plain": [
              "   Country          Population Area MGS   Langs\n",
              "1  Benin            3.69       5.05  7.14  52  \n",
              "2  Bolivia          3.88       6.04  6.92  38  \n",
              "3  Botswana         3.13       5.76  4.60  27  \n",
              "4  Burkina Faso     3.97       5.44  5.17  75  \n",
              "5  CAR              3.50       5.79  8.08  94  \n",
              "6  Cambodia         3.93       5.26  8.44  18  \n",
              "7  Chad             3.76       6.11  4.00 126  \n",
              "8  Congo            3.37       5.53  9.60  60  \n",
              "9  Costa Rica       3.49       4.71  8.92  10  \n",
              "10 French Guiana    2.01       4.95 10.40  11  \n",
              "11 Gabon            3.08       5.43  8.79  40  \n",
              "12 Guatemala        3.98       5.04  9.31  52  \n",
              "13 Guinea           3.77       5.39  7.38  29  \n",
              "14 Guyana           2.90       5.33 12.00  14  \n",
              "15 Honduras         3.72       5.05  8.54   9  \n",
              "16 Laos             3.63       5.37  7.14  93  \n",
              "17 Liberia          3.43       5.05 10.62  34  \n",
              "18 Libya            3.67       6.25  2.43  13  \n",
              "19 Malawi           3.93       5.07  5.80  14  \n",
              "20 Mali             3.98       6.09  3.59  31  \n",
              "21 Mauritania       3.31       6.01  0.75   8  \n",
              "22 Namibia          3.26       5.92  2.50  21  \n",
              "23 Nicaragua        3.60       5.11  8.13   7  \n",
              "24 Niger            3.90       6.10  2.40  21  \n",
              "25 Oman             3.19       5.33  0.00   8  \n",
              "26 Panama           3.39       4.88  9.20  13  \n",
              "27 Papua New Guinea 3.58       5.67 10.88 862  \n",
              "28 Paraguay         3.64       5.61 10.25  21  \n",
              "29 Senegal          3.88       5.29  3.58  42  \n",
              "30 Sierra Leone     3.63       4.86  8.22  23  \n",
              "31 Solomon Islands  3.52       4.46 12.00  66  \n",
              "32 Somalia          3.89       5.80  3.00  14  \n",
              "33 Suriname         2.63       5.21 12.00  17  \n",
              "34 Togo             3.56       4.75  7.91  43  \n",
              "35 UAE              3.21       4.92  0.83   9  \n",
              "36 Vanuatu          2.21       4.09 12.00 111  \n",
              "37 Zambia           3.94       5.88  5.43  38  "
            ],
            "text/latex": "A data.frame: 37 × 5\n\\begin{tabular}{lllll}\n Country & Population & Area & MGS & Langs\\\\\n <chr> & <dbl> & <dbl> & <dbl> & <int>\\\\\n\\hline\n\t Benin            & 3.69 & 5.05 &  7.14 &  52\\\\\n\t Bolivia          & 3.88 & 6.04 &  6.92 &  38\\\\\n\t Botswana         & 3.13 & 5.76 &  4.60 &  27\\\\\n\t Burkina Faso     & 3.97 & 5.44 &  5.17 &  75\\\\\n\t CAR              & 3.50 & 5.79 &  8.08 &  94\\\\\n\t Cambodia         & 3.93 & 5.26 &  8.44 &  18\\\\\n\t Chad             & 3.76 & 6.11 &  4.00 & 126\\\\\n\t Congo            & 3.37 & 5.53 &  9.60 &  60\\\\\n\t Costa Rica       & 3.49 & 4.71 &  8.92 &  10\\\\\n\t French Guiana    & 2.01 & 4.95 & 10.40 &  11\\\\\n\t Gabon            & 3.08 & 5.43 &  8.79 &  40\\\\\n\t Guatemala        & 3.98 & 5.04 &  9.31 &  52\\\\\n\t Guinea           & 3.77 & 5.39 &  7.38 &  29\\\\\n\t Guyana           & 2.90 & 5.33 & 12.00 &  14\\\\\n\t Honduras         & 3.72 & 5.05 &  8.54 &   9\\\\\n\t Laos             & 3.63 & 5.37 &  7.14 &  93\\\\\n\t Liberia          & 3.43 & 5.05 & 10.62 &  34\\\\\n\t Libya            & 3.67 & 6.25 &  2.43 &  13\\\\\n\t Malawi           & 3.93 & 5.07 &  5.80 &  14\\\\\n\t Mali             & 3.98 & 6.09 &  3.59 &  31\\\\\n\t Mauritania       & 3.31 & 6.01 &  0.75 &   8\\\\\n\t Namibia          & 3.26 & 5.92 &  2.50 &  21\\\\\n\t Nicaragua        & 3.60 & 5.11 &  8.13 &   7\\\\\n\t Niger            & 3.90 & 6.10 &  2.40 &  21\\\\\n\t Oman             & 3.19 & 5.33 &  0.00 &   8\\\\\n\t Panama           & 3.39 & 4.88 &  9.20 &  13\\\\\n\t Papua New Guinea & 3.58 & 5.67 & 10.88 & 862\\\\\n\t Paraguay         & 3.64 & 5.61 & 10.25 &  21\\\\\n\t Senegal          & 3.88 & 5.29 &  3.58 &  42\\\\\n\t Sierra Leone     & 3.63 & 4.86 &  8.22 &  23\\\\\n\t Solomon Islands  & 3.52 & 4.46 & 12.00 &  66\\\\\n\t Somalia          & 3.89 & 5.80 &  3.00 &  14\\\\\n\t Suriname         & 2.63 & 5.21 & 12.00 &  17\\\\\n\t Togo             & 3.56 & 4.75 &  7.91 &  43\\\\\n\t UAE              & 3.21 & 4.92 &  0.83 &   9\\\\\n\t Vanuatu          & 2.21 & 4.09 & 12.00 & 111\\\\\n\t Zambia           & 3.94 & 5.88 &  5.43 &  38\\\\\n\\end{tabular}\n",
            "text/markdown": "\nA data.frame: 37 × 5\n\n| Country &lt;chr&gt; | Population &lt;dbl&gt; | Area &lt;dbl&gt; | MGS &lt;dbl&gt; | Langs &lt;int&gt; |\n|---|---|---|---|---|\n| Benin            | 3.69 | 5.05 |  7.14 |  52 |\n| Bolivia          | 3.88 | 6.04 |  6.92 |  38 |\n| Botswana         | 3.13 | 5.76 |  4.60 |  27 |\n| Burkina Faso     | 3.97 | 5.44 |  5.17 |  75 |\n| CAR              | 3.50 | 5.79 |  8.08 |  94 |\n| Cambodia         | 3.93 | 5.26 |  8.44 |  18 |\n| Chad             | 3.76 | 6.11 |  4.00 | 126 |\n| Congo            | 3.37 | 5.53 |  9.60 |  60 |\n| Costa Rica       | 3.49 | 4.71 |  8.92 |  10 |\n| French Guiana    | 2.01 | 4.95 | 10.40 |  11 |\n| Gabon            | 3.08 | 5.43 |  8.79 |  40 |\n| Guatemala        | 3.98 | 5.04 |  9.31 |  52 |\n| Guinea           | 3.77 | 5.39 |  7.38 |  29 |\n| Guyana           | 2.90 | 5.33 | 12.00 |  14 |\n| Honduras         | 3.72 | 5.05 |  8.54 |   9 |\n| Laos             | 3.63 | 5.37 |  7.14 |  93 |\n| Liberia          | 3.43 | 5.05 | 10.62 |  34 |\n| Libya            | 3.67 | 6.25 |  2.43 |  13 |\n| Malawi           | 3.93 | 5.07 |  5.80 |  14 |\n| Mali             | 3.98 | 6.09 |  3.59 |  31 |\n| Mauritania       | 3.31 | 6.01 |  0.75 |   8 |\n| Namibia          | 3.26 | 5.92 |  2.50 |  21 |\n| Nicaragua        | 3.60 | 5.11 |  8.13 |   7 |\n| Niger            | 3.90 | 6.10 |  2.40 |  21 |\n| Oman             | 3.19 | 5.33 |  0.00 |   8 |\n| Panama           | 3.39 | 4.88 |  9.20 |  13 |\n| Papua New Guinea | 3.58 | 5.67 | 10.88 | 862 |\n| Paraguay         | 3.64 | 5.61 | 10.25 |  21 |\n| Senegal          | 3.88 | 5.29 |  3.58 |  42 |\n| Sierra Leone     | 3.63 | 4.86 |  8.22 |  23 |\n| Solomon Islands  | 3.52 | 4.46 | 12.00 |  66 |\n| Somalia          | 3.89 | 5.80 |  3.00 |  14 |\n| Suriname         | 2.63 | 5.21 | 12.00 |  17 |\n| Togo             | 3.56 | 4.75 |  7.91 |  43 |\n| UAE              | 3.21 | 4.92 |  0.83 |   9 |\n| Vanuatu          | 2.21 | 4.09 | 12.00 | 111 |\n| Zambia           | 3.94 | 5.88 |  5.43 |  38 |\n\n",
            "text/html": [
              "<table class=\"dataframe\">\n",
              "<caption>A data.frame: 37 × 5</caption>\n",
              "<thead>\n",
              "\t<tr><th scope=col>Country</th><th scope=col>Population</th><th scope=col>Area</th><th scope=col>MGS</th><th scope=col>Langs</th></tr>\n",
              "\t<tr><th scope=col>&lt;chr&gt;</th><th scope=col>&lt;dbl&gt;</th><th scope=col>&lt;dbl&gt;</th><th scope=col>&lt;dbl&gt;</th><th scope=col>&lt;int&gt;</th></tr>\n",
              "</thead>\n",
              "<tbody>\n",
              "\t<tr><td>Benin           </td><td>3.69</td><td>5.05</td><td> 7.14</td><td> 52</td></tr>\n",
              "\t<tr><td>Bolivia         </td><td>3.88</td><td>6.04</td><td> 6.92</td><td> 38</td></tr>\n",
              "\t<tr><td>Botswana        </td><td>3.13</td><td>5.76</td><td> 4.60</td><td> 27</td></tr>\n",
              "\t<tr><td>Burkina Faso    </td><td>3.97</td><td>5.44</td><td> 5.17</td><td> 75</td></tr>\n",
              "\t<tr><td>CAR             </td><td>3.50</td><td>5.79</td><td> 8.08</td><td> 94</td></tr>\n",
              "\t<tr><td>Cambodia        </td><td>3.93</td><td>5.26</td><td> 8.44</td><td> 18</td></tr>\n",
              "\t<tr><td>Chad            </td><td>3.76</td><td>6.11</td><td> 4.00</td><td>126</td></tr>\n",
              "\t<tr><td>Congo           </td><td>3.37</td><td>5.53</td><td> 9.60</td><td> 60</td></tr>\n",
              "\t<tr><td>Costa Rica      </td><td>3.49</td><td>4.71</td><td> 8.92</td><td> 10</td></tr>\n",
              "\t<tr><td>French Guiana   </td><td>2.01</td><td>4.95</td><td>10.40</td><td> 11</td></tr>\n",
              "\t<tr><td>Gabon           </td><td>3.08</td><td>5.43</td><td> 8.79</td><td> 40</td></tr>\n",
              "\t<tr><td>Guatemala       </td><td>3.98</td><td>5.04</td><td> 9.31</td><td> 52</td></tr>\n",
              "\t<tr><td>Guinea          </td><td>3.77</td><td>5.39</td><td> 7.38</td><td> 29</td></tr>\n",
              "\t<tr><td>Guyana          </td><td>2.90</td><td>5.33</td><td>12.00</td><td> 14</td></tr>\n",
              "\t<tr><td>Honduras        </td><td>3.72</td><td>5.05</td><td> 8.54</td><td>  9</td></tr>\n",
              "\t<tr><td>Laos            </td><td>3.63</td><td>5.37</td><td> 7.14</td><td> 93</td></tr>\n",
              "\t<tr><td>Liberia         </td><td>3.43</td><td>5.05</td><td>10.62</td><td> 34</td></tr>\n",
              "\t<tr><td>Libya           </td><td>3.67</td><td>6.25</td><td> 2.43</td><td> 13</td></tr>\n",
              "\t<tr><td>Malawi          </td><td>3.93</td><td>5.07</td><td> 5.80</td><td> 14</td></tr>\n",
              "\t<tr><td>Mali            </td><td>3.98</td><td>6.09</td><td> 3.59</td><td> 31</td></tr>\n",
              "\t<tr><td>Mauritania      </td><td>3.31</td><td>6.01</td><td> 0.75</td><td>  8</td></tr>\n",
              "\t<tr><td>Namibia         </td><td>3.26</td><td>5.92</td><td> 2.50</td><td> 21</td></tr>\n",
              "\t<tr><td>Nicaragua       </td><td>3.60</td><td>5.11</td><td> 8.13</td><td>  7</td></tr>\n",
              "\t<tr><td>Niger           </td><td>3.90</td><td>6.10</td><td> 2.40</td><td> 21</td></tr>\n",
              "\t<tr><td>Oman            </td><td>3.19</td><td>5.33</td><td> 0.00</td><td>  8</td></tr>\n",
              "\t<tr><td>Panama          </td><td>3.39</td><td>4.88</td><td> 9.20</td><td> 13</td></tr>\n",
              "\t<tr><td>Papua New Guinea</td><td>3.58</td><td>5.67</td><td>10.88</td><td>862</td></tr>\n",
              "\t<tr><td>Paraguay        </td><td>3.64</td><td>5.61</td><td>10.25</td><td> 21</td></tr>\n",
              "\t<tr><td>Senegal         </td><td>3.88</td><td>5.29</td><td> 3.58</td><td> 42</td></tr>\n",
              "\t<tr><td>Sierra Leone    </td><td>3.63</td><td>4.86</td><td> 8.22</td><td> 23</td></tr>\n",
              "\t<tr><td>Solomon Islands </td><td>3.52</td><td>4.46</td><td>12.00</td><td> 66</td></tr>\n",
              "\t<tr><td>Somalia         </td><td>3.89</td><td>5.80</td><td> 3.00</td><td> 14</td></tr>\n",
              "\t<tr><td>Suriname        </td><td>2.63</td><td>5.21</td><td>12.00</td><td> 17</td></tr>\n",
              "\t<tr><td>Togo            </td><td>3.56</td><td>4.75</td><td> 7.91</td><td> 43</td></tr>\n",
              "\t<tr><td>UAE             </td><td>3.21</td><td>4.92</td><td> 0.83</td><td>  9</td></tr>\n",
              "\t<tr><td>Vanuatu         </td><td>2.21</td><td>4.09</td><td>12.00</td><td>111</td></tr>\n",
              "\t<tr><td>Zambia          </td><td>3.94</td><td>5.88</td><td> 5.43</td><td> 38</td></tr>\n",
              "</tbody>\n",
              "</table>\n"
            ]
          },
          "metadata": {}
        }
      ]
    },
    {
      "cell_type": "code",
      "metadata": {
        "colab": {
          "base_uri": "https://localhost:8080/",
          "height": 1000
        },
        "id": "VAY5mtA6xCGd",
        "outputId": "06d5cd42-d146-45c1-a2b2-34e80b175acd"
      },
      "source": [
        "nettle_MGS <- mutate(smallcountries,\n",
        "                     MGS_cat = ifelse(MGS < 6, 'dry', 'fertile'))\n",
        "nettle_MGS"
      ],
      "execution_count": 19,
      "outputs": [
        {
          "output_type": "display_data",
          "data": {
            "text/plain": [
              "   Country          Population Area MGS   Langs MGS_cat\n",
              "1  Benin            3.69       5.05  7.14  52   fertile\n",
              "2  Bolivia          3.88       6.04  6.92  38   fertile\n",
              "3  Botswana         3.13       5.76  4.60  27   dry    \n",
              "4  Burkina Faso     3.97       5.44  5.17  75   dry    \n",
              "5  CAR              3.50       5.79  8.08  94   fertile\n",
              "6  Cambodia         3.93       5.26  8.44  18   fertile\n",
              "7  Chad             3.76       6.11  4.00 126   dry    \n",
              "8  Congo            3.37       5.53  9.60  60   fertile\n",
              "9  Costa Rica       3.49       4.71  8.92  10   fertile\n",
              "10 French Guiana    2.01       4.95 10.40  11   fertile\n",
              "11 Gabon            3.08       5.43  8.79  40   fertile\n",
              "12 Guatemala        3.98       5.04  9.31  52   fertile\n",
              "13 Guinea           3.77       5.39  7.38  29   fertile\n",
              "14 Guyana           2.90       5.33 12.00  14   fertile\n",
              "15 Honduras         3.72       5.05  8.54   9   fertile\n",
              "16 Laos             3.63       5.37  7.14  93   fertile\n",
              "17 Liberia          3.43       5.05 10.62  34   fertile\n",
              "18 Libya            3.67       6.25  2.43  13   dry    \n",
              "19 Malawi           3.93       5.07  5.80  14   dry    \n",
              "20 Mali             3.98       6.09  3.59  31   dry    \n",
              "21 Mauritania       3.31       6.01  0.75   8   dry    \n",
              "22 Namibia          3.26       5.92  2.50  21   dry    \n",
              "23 Nicaragua        3.60       5.11  8.13   7   fertile\n",
              "24 Niger            3.90       6.10  2.40  21   dry    \n",
              "25 Oman             3.19       5.33  0.00   8   dry    \n",
              "26 Panama           3.39       4.88  9.20  13   fertile\n",
              "27 Papua New Guinea 3.58       5.67 10.88 862   fertile\n",
              "28 Paraguay         3.64       5.61 10.25  21   fertile\n",
              "29 Senegal          3.88       5.29  3.58  42   dry    \n",
              "30 Sierra Leone     3.63       4.86  8.22  23   fertile\n",
              "31 Solomon Islands  3.52       4.46 12.00  66   fertile\n",
              "32 Somalia          3.89       5.80  3.00  14   dry    \n",
              "33 Suriname         2.63       5.21 12.00  17   fertile\n",
              "34 Togo             3.56       4.75  7.91  43   fertile\n",
              "35 UAE              3.21       4.92  0.83   9   dry    \n",
              "36 Vanuatu          2.21       4.09 12.00 111   fertile\n",
              "37 Zambia           3.94       5.88  5.43  38   dry    "
            ],
            "text/latex": "A data.frame: 37 × 6\n\\begin{tabular}{llllll}\n Country & Population & Area & MGS & Langs & MGS\\_cat\\\\\n <chr> & <dbl> & <dbl> & <dbl> & <int> & <chr>\\\\\n\\hline\n\t Benin            & 3.69 & 5.05 &  7.14 &  52 & fertile\\\\\n\t Bolivia          & 3.88 & 6.04 &  6.92 &  38 & fertile\\\\\n\t Botswana         & 3.13 & 5.76 &  4.60 &  27 & dry    \\\\\n\t Burkina Faso     & 3.97 & 5.44 &  5.17 &  75 & dry    \\\\\n\t CAR              & 3.50 & 5.79 &  8.08 &  94 & fertile\\\\\n\t Cambodia         & 3.93 & 5.26 &  8.44 &  18 & fertile\\\\\n\t Chad             & 3.76 & 6.11 &  4.00 & 126 & dry    \\\\\n\t Congo            & 3.37 & 5.53 &  9.60 &  60 & fertile\\\\\n\t Costa Rica       & 3.49 & 4.71 &  8.92 &  10 & fertile\\\\\n\t French Guiana    & 2.01 & 4.95 & 10.40 &  11 & fertile\\\\\n\t Gabon            & 3.08 & 5.43 &  8.79 &  40 & fertile\\\\\n\t Guatemala        & 3.98 & 5.04 &  9.31 &  52 & fertile\\\\\n\t Guinea           & 3.77 & 5.39 &  7.38 &  29 & fertile\\\\\n\t Guyana           & 2.90 & 5.33 & 12.00 &  14 & fertile\\\\\n\t Honduras         & 3.72 & 5.05 &  8.54 &   9 & fertile\\\\\n\t Laos             & 3.63 & 5.37 &  7.14 &  93 & fertile\\\\\n\t Liberia          & 3.43 & 5.05 & 10.62 &  34 & fertile\\\\\n\t Libya            & 3.67 & 6.25 &  2.43 &  13 & dry    \\\\\n\t Malawi           & 3.93 & 5.07 &  5.80 &  14 & dry    \\\\\n\t Mali             & 3.98 & 6.09 &  3.59 &  31 & dry    \\\\\n\t Mauritania       & 3.31 & 6.01 &  0.75 &   8 & dry    \\\\\n\t Namibia          & 3.26 & 5.92 &  2.50 &  21 & dry    \\\\\n\t Nicaragua        & 3.60 & 5.11 &  8.13 &   7 & fertile\\\\\n\t Niger            & 3.90 & 6.10 &  2.40 &  21 & dry    \\\\\n\t Oman             & 3.19 & 5.33 &  0.00 &   8 & dry    \\\\\n\t Panama           & 3.39 & 4.88 &  9.20 &  13 & fertile\\\\\n\t Papua New Guinea & 3.58 & 5.67 & 10.88 & 862 & fertile\\\\\n\t Paraguay         & 3.64 & 5.61 & 10.25 &  21 & fertile\\\\\n\t Senegal          & 3.88 & 5.29 &  3.58 &  42 & dry    \\\\\n\t Sierra Leone     & 3.63 & 4.86 &  8.22 &  23 & fertile\\\\\n\t Solomon Islands  & 3.52 & 4.46 & 12.00 &  66 & fertile\\\\\n\t Somalia          & 3.89 & 5.80 &  3.00 &  14 & dry    \\\\\n\t Suriname         & 2.63 & 5.21 & 12.00 &  17 & fertile\\\\\n\t Togo             & 3.56 & 4.75 &  7.91 &  43 & fertile\\\\\n\t UAE              & 3.21 & 4.92 &  0.83 &   9 & dry    \\\\\n\t Vanuatu          & 2.21 & 4.09 & 12.00 & 111 & fertile\\\\\n\t Zambia           & 3.94 & 5.88 &  5.43 &  38 & dry    \\\\\n\\end{tabular}\n",
            "text/markdown": "\nA data.frame: 37 × 6\n\n| Country &lt;chr&gt; | Population &lt;dbl&gt; | Area &lt;dbl&gt; | MGS &lt;dbl&gt; | Langs &lt;int&gt; | MGS_cat &lt;chr&gt; |\n|---|---|---|---|---|---|\n| Benin            | 3.69 | 5.05 |  7.14 |  52 | fertile |\n| Bolivia          | 3.88 | 6.04 |  6.92 |  38 | fertile |\n| Botswana         | 3.13 | 5.76 |  4.60 |  27 | dry     |\n| Burkina Faso     | 3.97 | 5.44 |  5.17 |  75 | dry     |\n| CAR              | 3.50 | 5.79 |  8.08 |  94 | fertile |\n| Cambodia         | 3.93 | 5.26 |  8.44 |  18 | fertile |\n| Chad             | 3.76 | 6.11 |  4.00 | 126 | dry     |\n| Congo            | 3.37 | 5.53 |  9.60 |  60 | fertile |\n| Costa Rica       | 3.49 | 4.71 |  8.92 |  10 | fertile |\n| French Guiana    | 2.01 | 4.95 | 10.40 |  11 | fertile |\n| Gabon            | 3.08 | 5.43 |  8.79 |  40 | fertile |\n| Guatemala        | 3.98 | 5.04 |  9.31 |  52 | fertile |\n| Guinea           | 3.77 | 5.39 |  7.38 |  29 | fertile |\n| Guyana           | 2.90 | 5.33 | 12.00 |  14 | fertile |\n| Honduras         | 3.72 | 5.05 |  8.54 |   9 | fertile |\n| Laos             | 3.63 | 5.37 |  7.14 |  93 | fertile |\n| Liberia          | 3.43 | 5.05 | 10.62 |  34 | fertile |\n| Libya            | 3.67 | 6.25 |  2.43 |  13 | dry     |\n| Malawi           | 3.93 | 5.07 |  5.80 |  14 | dry     |\n| Mali             | 3.98 | 6.09 |  3.59 |  31 | dry     |\n| Mauritania       | 3.31 | 6.01 |  0.75 |   8 | dry     |\n| Namibia          | 3.26 | 5.92 |  2.50 |  21 | dry     |\n| Nicaragua        | 3.60 | 5.11 |  8.13 |   7 | fertile |\n| Niger            | 3.90 | 6.10 |  2.40 |  21 | dry     |\n| Oman             | 3.19 | 5.33 |  0.00 |   8 | dry     |\n| Panama           | 3.39 | 4.88 |  9.20 |  13 | fertile |\n| Papua New Guinea | 3.58 | 5.67 | 10.88 | 862 | fertile |\n| Paraguay         | 3.64 | 5.61 | 10.25 |  21 | fertile |\n| Senegal          | 3.88 | 5.29 |  3.58 |  42 | dry     |\n| Sierra Leone     | 3.63 | 4.86 |  8.22 |  23 | fertile |\n| Solomon Islands  | 3.52 | 4.46 | 12.00 |  66 | fertile |\n| Somalia          | 3.89 | 5.80 |  3.00 |  14 | dry     |\n| Suriname         | 2.63 | 5.21 | 12.00 |  17 | fertile |\n| Togo             | 3.56 | 4.75 |  7.91 |  43 | fertile |\n| UAE              | 3.21 | 4.92 |  0.83 |   9 | dry     |\n| Vanuatu          | 2.21 | 4.09 | 12.00 | 111 | fertile |\n| Zambia           | 3.94 | 5.88 |  5.43 |  38 | dry     |\n\n",
            "text/html": [
              "<table class=\"dataframe\">\n",
              "<caption>A data.frame: 37 × 6</caption>\n",
              "<thead>\n",
              "\t<tr><th scope=col>Country</th><th scope=col>Population</th><th scope=col>Area</th><th scope=col>MGS</th><th scope=col>Langs</th><th scope=col>MGS_cat</th></tr>\n",
              "\t<tr><th scope=col>&lt;chr&gt;</th><th scope=col>&lt;dbl&gt;</th><th scope=col>&lt;dbl&gt;</th><th scope=col>&lt;dbl&gt;</th><th scope=col>&lt;int&gt;</th><th scope=col>&lt;chr&gt;</th></tr>\n",
              "</thead>\n",
              "<tbody>\n",
              "\t<tr><td>Benin           </td><td>3.69</td><td>5.05</td><td> 7.14</td><td> 52</td><td>fertile</td></tr>\n",
              "\t<tr><td>Bolivia         </td><td>3.88</td><td>6.04</td><td> 6.92</td><td> 38</td><td>fertile</td></tr>\n",
              "\t<tr><td>Botswana        </td><td>3.13</td><td>5.76</td><td> 4.60</td><td> 27</td><td>dry    </td></tr>\n",
              "\t<tr><td>Burkina Faso    </td><td>3.97</td><td>5.44</td><td> 5.17</td><td> 75</td><td>dry    </td></tr>\n",
              "\t<tr><td>CAR             </td><td>3.50</td><td>5.79</td><td> 8.08</td><td> 94</td><td>fertile</td></tr>\n",
              "\t<tr><td>Cambodia        </td><td>3.93</td><td>5.26</td><td> 8.44</td><td> 18</td><td>fertile</td></tr>\n",
              "\t<tr><td>Chad            </td><td>3.76</td><td>6.11</td><td> 4.00</td><td>126</td><td>dry    </td></tr>\n",
              "\t<tr><td>Congo           </td><td>3.37</td><td>5.53</td><td> 9.60</td><td> 60</td><td>fertile</td></tr>\n",
              "\t<tr><td>Costa Rica      </td><td>3.49</td><td>4.71</td><td> 8.92</td><td> 10</td><td>fertile</td></tr>\n",
              "\t<tr><td>French Guiana   </td><td>2.01</td><td>4.95</td><td>10.40</td><td> 11</td><td>fertile</td></tr>\n",
              "\t<tr><td>Gabon           </td><td>3.08</td><td>5.43</td><td> 8.79</td><td> 40</td><td>fertile</td></tr>\n",
              "\t<tr><td>Guatemala       </td><td>3.98</td><td>5.04</td><td> 9.31</td><td> 52</td><td>fertile</td></tr>\n",
              "\t<tr><td>Guinea          </td><td>3.77</td><td>5.39</td><td> 7.38</td><td> 29</td><td>fertile</td></tr>\n",
              "\t<tr><td>Guyana          </td><td>2.90</td><td>5.33</td><td>12.00</td><td> 14</td><td>fertile</td></tr>\n",
              "\t<tr><td>Honduras        </td><td>3.72</td><td>5.05</td><td> 8.54</td><td>  9</td><td>fertile</td></tr>\n",
              "\t<tr><td>Laos            </td><td>3.63</td><td>5.37</td><td> 7.14</td><td> 93</td><td>fertile</td></tr>\n",
              "\t<tr><td>Liberia         </td><td>3.43</td><td>5.05</td><td>10.62</td><td> 34</td><td>fertile</td></tr>\n",
              "\t<tr><td>Libya           </td><td>3.67</td><td>6.25</td><td> 2.43</td><td> 13</td><td>dry    </td></tr>\n",
              "\t<tr><td>Malawi          </td><td>3.93</td><td>5.07</td><td> 5.80</td><td> 14</td><td>dry    </td></tr>\n",
              "\t<tr><td>Mali            </td><td>3.98</td><td>6.09</td><td> 3.59</td><td> 31</td><td>dry    </td></tr>\n",
              "\t<tr><td>Mauritania      </td><td>3.31</td><td>6.01</td><td> 0.75</td><td>  8</td><td>dry    </td></tr>\n",
              "\t<tr><td>Namibia         </td><td>3.26</td><td>5.92</td><td> 2.50</td><td> 21</td><td>dry    </td></tr>\n",
              "\t<tr><td>Nicaragua       </td><td>3.60</td><td>5.11</td><td> 8.13</td><td>  7</td><td>fertile</td></tr>\n",
              "\t<tr><td>Niger           </td><td>3.90</td><td>6.10</td><td> 2.40</td><td> 21</td><td>dry    </td></tr>\n",
              "\t<tr><td>Oman            </td><td>3.19</td><td>5.33</td><td> 0.00</td><td>  8</td><td>dry    </td></tr>\n",
              "\t<tr><td>Panama          </td><td>3.39</td><td>4.88</td><td> 9.20</td><td> 13</td><td>fertile</td></tr>\n",
              "\t<tr><td>Papua New Guinea</td><td>3.58</td><td>5.67</td><td>10.88</td><td>862</td><td>fertile</td></tr>\n",
              "\t<tr><td>Paraguay        </td><td>3.64</td><td>5.61</td><td>10.25</td><td> 21</td><td>fertile</td></tr>\n",
              "\t<tr><td>Senegal         </td><td>3.88</td><td>5.29</td><td> 3.58</td><td> 42</td><td>dry    </td></tr>\n",
              "\t<tr><td>Sierra Leone    </td><td>3.63</td><td>4.86</td><td> 8.22</td><td> 23</td><td>fertile</td></tr>\n",
              "\t<tr><td>Solomon Islands </td><td>3.52</td><td>4.46</td><td>12.00</td><td> 66</td><td>fertile</td></tr>\n",
              "\t<tr><td>Somalia         </td><td>3.89</td><td>5.80</td><td> 3.00</td><td> 14</td><td>dry    </td></tr>\n",
              "\t<tr><td>Suriname        </td><td>2.63</td><td>5.21</td><td>12.00</td><td> 17</td><td>fertile</td></tr>\n",
              "\t<tr><td>Togo            </td><td>3.56</td><td>4.75</td><td> 7.91</td><td> 43</td><td>fertile</td></tr>\n",
              "\t<tr><td>UAE             </td><td>3.21</td><td>4.92</td><td> 0.83</td><td>  9</td><td>dry    </td></tr>\n",
              "\t<tr><td>Vanuatu         </td><td>2.21</td><td>4.09</td><td>12.00</td><td>111</td><td>fertile</td></tr>\n",
              "\t<tr><td>Zambia          </td><td>3.94</td><td>5.88</td><td> 5.43</td><td> 38</td><td>dry    </td></tr>\n",
              "</tbody>\n",
              "</table>\n"
            ]
          },
          "metadata": {}
        }
      ]
    },
    {
      "cell_type": "code",
      "metadata": {
        "colab": {
          "base_uri": "https://localhost:8080/",
          "height": 1000
        },
        "id": "X2sDUv_txocs",
        "outputId": "7008e6c5-6476-4c72-a3d0-78629572a36c"
      },
      "source": [
        "nettle_MGS_grouped <- group_by(nettle_MGS, MGS_cat)\n",
        "nettle_MGS_grouped\n"
      ],
      "execution_count": 21,
      "outputs": [
        {
          "output_type": "display_data",
          "data": {
            "text/plain": [
              "   Country          Population Area MGS   Langs MGS_cat\n",
              "1  Benin            3.69       5.05  7.14  52   fertile\n",
              "2  Bolivia          3.88       6.04  6.92  38   fertile\n",
              "3  Botswana         3.13       5.76  4.60  27   dry    \n",
              "4  Burkina Faso     3.97       5.44  5.17  75   dry    \n",
              "5  CAR              3.50       5.79  8.08  94   fertile\n",
              "6  Cambodia         3.93       5.26  8.44  18   fertile\n",
              "7  Chad             3.76       6.11  4.00 126   dry    \n",
              "8  Congo            3.37       5.53  9.60  60   fertile\n",
              "9  Costa Rica       3.49       4.71  8.92  10   fertile\n",
              "10 French Guiana    2.01       4.95 10.40  11   fertile\n",
              "11 Gabon            3.08       5.43  8.79  40   fertile\n",
              "12 Guatemala        3.98       5.04  9.31  52   fertile\n",
              "13 Guinea           3.77       5.39  7.38  29   fertile\n",
              "14 Guyana           2.90       5.33 12.00  14   fertile\n",
              "15 Honduras         3.72       5.05  8.54   9   fertile\n",
              "16 Laos             3.63       5.37  7.14  93   fertile\n",
              "17 Liberia          3.43       5.05 10.62  34   fertile\n",
              "18 Libya            3.67       6.25  2.43  13   dry    \n",
              "19 Malawi           3.93       5.07  5.80  14   dry    \n",
              "20 Mali             3.98       6.09  3.59  31   dry    \n",
              "21 Mauritania       3.31       6.01  0.75   8   dry    \n",
              "22 Namibia          3.26       5.92  2.50  21   dry    \n",
              "23 Nicaragua        3.60       5.11  8.13   7   fertile\n",
              "24 Niger            3.90       6.10  2.40  21   dry    \n",
              "25 Oman             3.19       5.33  0.00   8   dry    \n",
              "26 Panama           3.39       4.88  9.20  13   fertile\n",
              "27 Papua New Guinea 3.58       5.67 10.88 862   fertile\n",
              "28 Paraguay         3.64       5.61 10.25  21   fertile\n",
              "29 Senegal          3.88       5.29  3.58  42   dry    \n",
              "30 Sierra Leone     3.63       4.86  8.22  23   fertile\n",
              "31 Solomon Islands  3.52       4.46 12.00  66   fertile\n",
              "32 Somalia          3.89       5.80  3.00  14   dry    \n",
              "33 Suriname         2.63       5.21 12.00  17   fertile\n",
              "34 Togo             3.56       4.75  7.91  43   fertile\n",
              "35 UAE              3.21       4.92  0.83   9   dry    \n",
              "36 Vanuatu          2.21       4.09 12.00 111   fertile\n",
              "37 Zambia           3.94       5.88  5.43  38   dry    "
            ],
            "text/latex": "A grouped\\_df: 37 × 6\n\\begin{tabular}{llllll}\n Country & Population & Area & MGS & Langs & MGS\\_cat\\\\\n <chr> & <dbl> & <dbl> & <dbl> & <int> & <chr>\\\\\n\\hline\n\t Benin            & 3.69 & 5.05 &  7.14 &  52 & fertile\\\\\n\t Bolivia          & 3.88 & 6.04 &  6.92 &  38 & fertile\\\\\n\t Botswana         & 3.13 & 5.76 &  4.60 &  27 & dry    \\\\\n\t Burkina Faso     & 3.97 & 5.44 &  5.17 &  75 & dry    \\\\\n\t CAR              & 3.50 & 5.79 &  8.08 &  94 & fertile\\\\\n\t Cambodia         & 3.93 & 5.26 &  8.44 &  18 & fertile\\\\\n\t Chad             & 3.76 & 6.11 &  4.00 & 126 & dry    \\\\\n\t Congo            & 3.37 & 5.53 &  9.60 &  60 & fertile\\\\\n\t Costa Rica       & 3.49 & 4.71 &  8.92 &  10 & fertile\\\\\n\t French Guiana    & 2.01 & 4.95 & 10.40 &  11 & fertile\\\\\n\t Gabon            & 3.08 & 5.43 &  8.79 &  40 & fertile\\\\\n\t Guatemala        & 3.98 & 5.04 &  9.31 &  52 & fertile\\\\\n\t Guinea           & 3.77 & 5.39 &  7.38 &  29 & fertile\\\\\n\t Guyana           & 2.90 & 5.33 & 12.00 &  14 & fertile\\\\\n\t Honduras         & 3.72 & 5.05 &  8.54 &   9 & fertile\\\\\n\t Laos             & 3.63 & 5.37 &  7.14 &  93 & fertile\\\\\n\t Liberia          & 3.43 & 5.05 & 10.62 &  34 & fertile\\\\\n\t Libya            & 3.67 & 6.25 &  2.43 &  13 & dry    \\\\\n\t Malawi           & 3.93 & 5.07 &  5.80 &  14 & dry    \\\\\n\t Mali             & 3.98 & 6.09 &  3.59 &  31 & dry    \\\\\n\t Mauritania       & 3.31 & 6.01 &  0.75 &   8 & dry    \\\\\n\t Namibia          & 3.26 & 5.92 &  2.50 &  21 & dry    \\\\\n\t Nicaragua        & 3.60 & 5.11 &  8.13 &   7 & fertile\\\\\n\t Niger            & 3.90 & 6.10 &  2.40 &  21 & dry    \\\\\n\t Oman             & 3.19 & 5.33 &  0.00 &   8 & dry    \\\\\n\t Panama           & 3.39 & 4.88 &  9.20 &  13 & fertile\\\\\n\t Papua New Guinea & 3.58 & 5.67 & 10.88 & 862 & fertile\\\\\n\t Paraguay         & 3.64 & 5.61 & 10.25 &  21 & fertile\\\\\n\t Senegal          & 3.88 & 5.29 &  3.58 &  42 & dry    \\\\\n\t Sierra Leone     & 3.63 & 4.86 &  8.22 &  23 & fertile\\\\\n\t Solomon Islands  & 3.52 & 4.46 & 12.00 &  66 & fertile\\\\\n\t Somalia          & 3.89 & 5.80 &  3.00 &  14 & dry    \\\\\n\t Suriname         & 2.63 & 5.21 & 12.00 &  17 & fertile\\\\\n\t Togo             & 3.56 & 4.75 &  7.91 &  43 & fertile\\\\\n\t UAE              & 3.21 & 4.92 &  0.83 &   9 & dry    \\\\\n\t Vanuatu          & 2.21 & 4.09 & 12.00 & 111 & fertile\\\\\n\t Zambia           & 3.94 & 5.88 &  5.43 &  38 & dry    \\\\\n\\end{tabular}\n",
            "text/markdown": "\nA grouped_df: 37 × 6\n\n| Country &lt;chr&gt; | Population &lt;dbl&gt; | Area &lt;dbl&gt; | MGS &lt;dbl&gt; | Langs &lt;int&gt; | MGS_cat &lt;chr&gt; |\n|---|---|---|---|---|---|\n| Benin            | 3.69 | 5.05 |  7.14 |  52 | fertile |\n| Bolivia          | 3.88 | 6.04 |  6.92 |  38 | fertile |\n| Botswana         | 3.13 | 5.76 |  4.60 |  27 | dry     |\n| Burkina Faso     | 3.97 | 5.44 |  5.17 |  75 | dry     |\n| CAR              | 3.50 | 5.79 |  8.08 |  94 | fertile |\n| Cambodia         | 3.93 | 5.26 |  8.44 |  18 | fertile |\n| Chad             | 3.76 | 6.11 |  4.00 | 126 | dry     |\n| Congo            | 3.37 | 5.53 |  9.60 |  60 | fertile |\n| Costa Rica       | 3.49 | 4.71 |  8.92 |  10 | fertile |\n| French Guiana    | 2.01 | 4.95 | 10.40 |  11 | fertile |\n| Gabon            | 3.08 | 5.43 |  8.79 |  40 | fertile |\n| Guatemala        | 3.98 | 5.04 |  9.31 |  52 | fertile |\n| Guinea           | 3.77 | 5.39 |  7.38 |  29 | fertile |\n| Guyana           | 2.90 | 5.33 | 12.00 |  14 | fertile |\n| Honduras         | 3.72 | 5.05 |  8.54 |   9 | fertile |\n| Laos             | 3.63 | 5.37 |  7.14 |  93 | fertile |\n| Liberia          | 3.43 | 5.05 | 10.62 |  34 | fertile |\n| Libya            | 3.67 | 6.25 |  2.43 |  13 | dry     |\n| Malawi           | 3.93 | 5.07 |  5.80 |  14 | dry     |\n| Mali             | 3.98 | 6.09 |  3.59 |  31 | dry     |\n| Mauritania       | 3.31 | 6.01 |  0.75 |   8 | dry     |\n| Namibia          | 3.26 | 5.92 |  2.50 |  21 | dry     |\n| Nicaragua        | 3.60 | 5.11 |  8.13 |   7 | fertile |\n| Niger            | 3.90 | 6.10 |  2.40 |  21 | dry     |\n| Oman             | 3.19 | 5.33 |  0.00 |   8 | dry     |\n| Panama           | 3.39 | 4.88 |  9.20 |  13 | fertile |\n| Papua New Guinea | 3.58 | 5.67 | 10.88 | 862 | fertile |\n| Paraguay         | 3.64 | 5.61 | 10.25 |  21 | fertile |\n| Senegal          | 3.88 | 5.29 |  3.58 |  42 | dry     |\n| Sierra Leone     | 3.63 | 4.86 |  8.22 |  23 | fertile |\n| Solomon Islands  | 3.52 | 4.46 | 12.00 |  66 | fertile |\n| Somalia          | 3.89 | 5.80 |  3.00 |  14 | dry     |\n| Suriname         | 2.63 | 5.21 | 12.00 |  17 | fertile |\n| Togo             | 3.56 | 4.75 |  7.91 |  43 | fertile |\n| UAE              | 3.21 | 4.92 |  0.83 |   9 | dry     |\n| Vanuatu          | 2.21 | 4.09 | 12.00 | 111 | fertile |\n| Zambia           | 3.94 | 5.88 |  5.43 |  38 | dry     |\n\n",
            "text/html": [
              "<table class=\"dataframe\">\n",
              "<caption>A grouped_df: 37 × 6</caption>\n",
              "<thead>\n",
              "\t<tr><th scope=col>Country</th><th scope=col>Population</th><th scope=col>Area</th><th scope=col>MGS</th><th scope=col>Langs</th><th scope=col>MGS_cat</th></tr>\n",
              "\t<tr><th scope=col>&lt;chr&gt;</th><th scope=col>&lt;dbl&gt;</th><th scope=col>&lt;dbl&gt;</th><th scope=col>&lt;dbl&gt;</th><th scope=col>&lt;int&gt;</th><th scope=col>&lt;chr&gt;</th></tr>\n",
              "</thead>\n",
              "<tbody>\n",
              "\t<tr><td>Benin           </td><td>3.69</td><td>5.05</td><td> 7.14</td><td> 52</td><td>fertile</td></tr>\n",
              "\t<tr><td>Bolivia         </td><td>3.88</td><td>6.04</td><td> 6.92</td><td> 38</td><td>fertile</td></tr>\n",
              "\t<tr><td>Botswana        </td><td>3.13</td><td>5.76</td><td> 4.60</td><td> 27</td><td>dry    </td></tr>\n",
              "\t<tr><td>Burkina Faso    </td><td>3.97</td><td>5.44</td><td> 5.17</td><td> 75</td><td>dry    </td></tr>\n",
              "\t<tr><td>CAR             </td><td>3.50</td><td>5.79</td><td> 8.08</td><td> 94</td><td>fertile</td></tr>\n",
              "\t<tr><td>Cambodia        </td><td>3.93</td><td>5.26</td><td> 8.44</td><td> 18</td><td>fertile</td></tr>\n",
              "\t<tr><td>Chad            </td><td>3.76</td><td>6.11</td><td> 4.00</td><td>126</td><td>dry    </td></tr>\n",
              "\t<tr><td>Congo           </td><td>3.37</td><td>5.53</td><td> 9.60</td><td> 60</td><td>fertile</td></tr>\n",
              "\t<tr><td>Costa Rica      </td><td>3.49</td><td>4.71</td><td> 8.92</td><td> 10</td><td>fertile</td></tr>\n",
              "\t<tr><td>French Guiana   </td><td>2.01</td><td>4.95</td><td>10.40</td><td> 11</td><td>fertile</td></tr>\n",
              "\t<tr><td>Gabon           </td><td>3.08</td><td>5.43</td><td> 8.79</td><td> 40</td><td>fertile</td></tr>\n",
              "\t<tr><td>Guatemala       </td><td>3.98</td><td>5.04</td><td> 9.31</td><td> 52</td><td>fertile</td></tr>\n",
              "\t<tr><td>Guinea          </td><td>3.77</td><td>5.39</td><td> 7.38</td><td> 29</td><td>fertile</td></tr>\n",
              "\t<tr><td>Guyana          </td><td>2.90</td><td>5.33</td><td>12.00</td><td> 14</td><td>fertile</td></tr>\n",
              "\t<tr><td>Honduras        </td><td>3.72</td><td>5.05</td><td> 8.54</td><td>  9</td><td>fertile</td></tr>\n",
              "\t<tr><td>Laos            </td><td>3.63</td><td>5.37</td><td> 7.14</td><td> 93</td><td>fertile</td></tr>\n",
              "\t<tr><td>Liberia         </td><td>3.43</td><td>5.05</td><td>10.62</td><td> 34</td><td>fertile</td></tr>\n",
              "\t<tr><td>Libya           </td><td>3.67</td><td>6.25</td><td> 2.43</td><td> 13</td><td>dry    </td></tr>\n",
              "\t<tr><td>Malawi          </td><td>3.93</td><td>5.07</td><td> 5.80</td><td> 14</td><td>dry    </td></tr>\n",
              "\t<tr><td>Mali            </td><td>3.98</td><td>6.09</td><td> 3.59</td><td> 31</td><td>dry    </td></tr>\n",
              "\t<tr><td>Mauritania      </td><td>3.31</td><td>6.01</td><td> 0.75</td><td>  8</td><td>dry    </td></tr>\n",
              "\t<tr><td>Namibia         </td><td>3.26</td><td>5.92</td><td> 2.50</td><td> 21</td><td>dry    </td></tr>\n",
              "\t<tr><td>Nicaragua       </td><td>3.60</td><td>5.11</td><td> 8.13</td><td>  7</td><td>fertile</td></tr>\n",
              "\t<tr><td>Niger           </td><td>3.90</td><td>6.10</td><td> 2.40</td><td> 21</td><td>dry    </td></tr>\n",
              "\t<tr><td>Oman            </td><td>3.19</td><td>5.33</td><td> 0.00</td><td>  8</td><td>dry    </td></tr>\n",
              "\t<tr><td>Panama          </td><td>3.39</td><td>4.88</td><td> 9.20</td><td> 13</td><td>fertile</td></tr>\n",
              "\t<tr><td>Papua New Guinea</td><td>3.58</td><td>5.67</td><td>10.88</td><td>862</td><td>fertile</td></tr>\n",
              "\t<tr><td>Paraguay        </td><td>3.64</td><td>5.61</td><td>10.25</td><td> 21</td><td>fertile</td></tr>\n",
              "\t<tr><td>Senegal         </td><td>3.88</td><td>5.29</td><td> 3.58</td><td> 42</td><td>dry    </td></tr>\n",
              "\t<tr><td>Sierra Leone    </td><td>3.63</td><td>4.86</td><td> 8.22</td><td> 23</td><td>fertile</td></tr>\n",
              "\t<tr><td>Solomon Islands </td><td>3.52</td><td>4.46</td><td>12.00</td><td> 66</td><td>fertile</td></tr>\n",
              "\t<tr><td>Somalia         </td><td>3.89</td><td>5.80</td><td> 3.00</td><td> 14</td><td>dry    </td></tr>\n",
              "\t<tr><td>Suriname        </td><td>2.63</td><td>5.21</td><td>12.00</td><td> 17</td><td>fertile</td></tr>\n",
              "\t<tr><td>Togo            </td><td>3.56</td><td>4.75</td><td> 7.91</td><td> 43</td><td>fertile</td></tr>\n",
              "\t<tr><td>UAE             </td><td>3.21</td><td>4.92</td><td> 0.83</td><td>  9</td><td>dry    </td></tr>\n",
              "\t<tr><td>Vanuatu         </td><td>2.21</td><td>4.09</td><td>12.00</td><td>111</td><td>fertile</td></tr>\n",
              "\t<tr><td>Zambia          </td><td>3.94</td><td>5.88</td><td> 5.43</td><td> 38</td><td>dry    </td></tr>\n",
              "</tbody>\n",
              "</table>\n"
            ]
          },
          "metadata": {}
        }
      ]
    },
    {
      "cell_type": "code",
      "metadata": {
        "colab": {
          "base_uri": "https://localhost:8080/",
          "height": 159
        },
        "id": "wh-1ZHw_zgIH",
        "outputId": "511872bb-d257-4e21-edaf-e139405c9acc"
      },
      "source": [
        "summarize(nettle_MGS_grouped, LangSum = sum(Langs))"
      ],
      "execution_count": 22,
      "outputs": [
        {
          "output_type": "display_data",
          "data": {
            "text/plain": [
              "  MGS_cat LangSum\n",
              "1 dry      447   \n",
              "2 fertile 1717   "
            ],
            "text/latex": "A tibble: 2 × 2\n\\begin{tabular}{ll}\n MGS\\_cat & LangSum\\\\\n <chr> & <int>\\\\\n\\hline\n\t dry     &  447\\\\\n\t fertile & 1717\\\\\n\\end{tabular}\n",
            "text/markdown": "\nA tibble: 2 × 2\n\n| MGS_cat &lt;chr&gt; | LangSum &lt;int&gt; |\n|---|---|\n| dry     |  447 |\n| fertile | 1717 |\n\n",
            "text/html": [
              "<table class=\"dataframe\">\n",
              "<caption>A tibble: 2 × 2</caption>\n",
              "<thead>\n",
              "\t<tr><th scope=col>MGS_cat</th><th scope=col>LangSum</th></tr>\n",
              "\t<tr><th scope=col>&lt;chr&gt;</th><th scope=col>&lt;int&gt;</th></tr>\n",
              "</thead>\n",
              "<tbody>\n",
              "\t<tr><td>dry    </td><td> 447</td></tr>\n",
              "\t<tr><td>fertile</td><td>1717</td></tr>\n",
              "</tbody>\n",
              "</table>\n"
            ]
          },
          "metadata": {}
        }
      ]
    },
    {
      "cell_type": "code",
      "metadata": {
        "colab": {
          "base_uri": "https://localhost:8080/",
          "height": 159
        },
        "id": "1JDxXwpkzmwe",
        "outputId": "6b8db0d7-98e0-4274-ca80-5cf9eddbf613"
      },
      "source": [
        "#Condense all of the previous steps into a single pipeline\n",
        "\n",
        "nettle %>%\n",
        "     filter(Population < 4) %>%\n",
        "     mutate( MGS_cat = ifelse(MGS < 6, 'dry', 'fertile'))%>%\n",
        "      group_by(MGS_cat) %>%\n",
        "      summarize(LangSum = sum(Langs))\n",
        "\n",
        "\n"
      ],
      "execution_count": 32,
      "outputs": [
        {
          "output_type": "display_data",
          "data": {
            "text/plain": [
              "  MGS_cat LangSum\n",
              "1 dry      447   \n",
              "2 fertile 1717   "
            ],
            "text/latex": "A tibble: 2 × 2\n\\begin{tabular}{ll}\n MGS\\_cat & LangSum\\\\\n <chr> & <int>\\\\\n\\hline\n\t dry     &  447\\\\\n\t fertile & 1717\\\\\n\\end{tabular}\n",
            "text/markdown": "\nA tibble: 2 × 2\n\n| MGS_cat &lt;chr&gt; | LangSum &lt;int&gt; |\n|---|---|\n| dry     |  447 |\n| fertile | 1717 |\n\n",
            "text/html": [
              "<table class=\"dataframe\">\n",
              "<caption>A tibble: 2 × 2</caption>\n",
              "<thead>\n",
              "\t<tr><th scope=col>MGS_cat</th><th scope=col>LangSum</th></tr>\n",
              "\t<tr><th scope=col>&lt;chr&gt;</th><th scope=col>&lt;int&gt;</th></tr>\n",
              "</thead>\n",
              "<tbody>\n",
              "\t<tr><td>dry    </td><td> 447</td></tr>\n",
              "\t<tr><td>fertile</td><td>1717</td></tr>\n",
              "</tbody>\n",
              "</table>\n"
            ]
          },
          "metadata": {}
        }
      ]
    },
    {
      "cell_type": "code",
      "metadata": {
        "colab": {
          "base_uri": "https://localhost:8080/",
          "height": 1000
        },
        "id": "biCQNAaQ6Ssl",
        "outputId": "41edd958-b0ad-4aee-d92c-3cd2b8edd501"
      },
      "source": [
        "Emo <- read.csv(\"/content/warriner_2013_emotional_valence.csv\")\n",
        "Emo"
      ],
      "execution_count": 37,
      "outputs": [
        {
          "output_type": "display_data",
          "data": {
            "text/plain": [
              "      Word        Val \n",
              "1     aardvark    6.26\n",
              "2     abalone     5.30\n",
              "3     abandon     2.84\n",
              "4     abandonment 2.63\n",
              "5     abbey       5.85\n",
              "6     abdomen     5.43\n",
              "7     abdominal   4.48\n",
              "8     abduct      2.42\n",
              "9     abduction   2.05\n",
              "10    abide       5.52\n",
              "11    abiding     5.57\n",
              "12    ability     7.00\n",
              "13    abject      4.00\n",
              "14    ablaze      5.15\n",
              "15    able        6.64\n",
              "16    abnormal    3.53\n",
              "17    abnormality 3.05\n",
              "18    abode       5.28\n",
              "19    abolish     3.84\n",
              "20    abominable  4.05\n",
              "21    abomination 2.50\n",
              "22    abort       3.10\n",
              "23    abortion    2.58\n",
              "24    abracadabra 5.11\n",
              "25    abrasive    4.26\n",
              "26    abreast     4.62\n",
              "27    abrupt      3.28\n",
              "28    abscess     2.79\n",
              "29    absence     3.86\n",
              "30    absent      4.10\n",
              "⋮     ⋮           ⋮   \n",
              "13886 young       6.31\n",
              "13887 youngster   6.05\n",
              "13888 youth       6.53\n",
              "13889 youthful    6.89\n",
              "13890 yucky       3.36\n",
              "13891 yuletide    6.19\n",
              "13892 yummy       7.52\n",
              "13893 yuppie      4.64\n",
              "13894 zap         5.39\n",
              "13895 zeal        6.15\n",
              "13896 zebra       6.47\n",
              "13897 zenith      5.20\n",
              "13898 zephyr      5.50\n",
              "13899 zest        6.76\n",
              "13900 zeta        5.55\n",
              "13901 zigzag      5.18\n",
              "13902 zilch       3.89\n",
              "13903 zillion     5.81\n",
              "13904 zinc        4.79\n",
              "13905 zing        6.95\n",
              "13906 zip         5.06\n",
              "13907 zipper      5.11\n",
              "13908 zit         3.30\n",
              "13909 zodiac      5.55\n",
              "13910 zombie      3.57\n",
              "13911 zone        4.75\n",
              "13912 zoning      4.65\n",
              "13913 zoo         7.00\n",
              "13914 zoom        5.86\n",
              "13915 zucchini    6.30"
            ],
            "text/latex": "A data.frame: 13915 × 2\n\\begin{tabular}{ll}\n Word & Val\\\\\n <chr> & <dbl>\\\\\n\\hline\n\t aardvark    & 6.26\\\\\n\t abalone     & 5.30\\\\\n\t abandon     & 2.84\\\\\n\t abandonment & 2.63\\\\\n\t abbey       & 5.85\\\\\n\t abdomen     & 5.43\\\\\n\t abdominal   & 4.48\\\\\n\t abduct      & 2.42\\\\\n\t abduction   & 2.05\\\\\n\t abide       & 5.52\\\\\n\t abiding     & 5.57\\\\\n\t ability     & 7.00\\\\\n\t abject      & 4.00\\\\\n\t ablaze      & 5.15\\\\\n\t able        & 6.64\\\\\n\t abnormal    & 3.53\\\\\n\t abnormality & 3.05\\\\\n\t abode       & 5.28\\\\\n\t abolish     & 3.84\\\\\n\t abominable  & 4.05\\\\\n\t abomination & 2.50\\\\\n\t abort       & 3.10\\\\\n\t abortion    & 2.58\\\\\n\t abracadabra & 5.11\\\\\n\t abrasive    & 4.26\\\\\n\t abreast     & 4.62\\\\\n\t abrupt      & 3.28\\\\\n\t abscess     & 2.79\\\\\n\t absence     & 3.86\\\\\n\t absent      & 4.10\\\\\n\t ⋮ & ⋮\\\\\n\t young     & 6.31\\\\\n\t youngster & 6.05\\\\\n\t youth     & 6.53\\\\\n\t youthful  & 6.89\\\\\n\t yucky     & 3.36\\\\\n\t yuletide  & 6.19\\\\\n\t yummy     & 7.52\\\\\n\t yuppie    & 4.64\\\\\n\t zap       & 5.39\\\\\n\t zeal      & 6.15\\\\\n\t zebra     & 6.47\\\\\n\t zenith    & 5.20\\\\\n\t zephyr    & 5.50\\\\\n\t zest      & 6.76\\\\\n\t zeta      & 5.55\\\\\n\t zigzag    & 5.18\\\\\n\t zilch     & 3.89\\\\\n\t zillion   & 5.81\\\\\n\t zinc      & 4.79\\\\\n\t zing      & 6.95\\\\\n\t zip       & 5.06\\\\\n\t zipper    & 5.11\\\\\n\t zit       & 3.30\\\\\n\t zodiac    & 5.55\\\\\n\t zombie    & 3.57\\\\\n\t zone      & 4.75\\\\\n\t zoning    & 4.65\\\\\n\t zoo       & 7.00\\\\\n\t zoom      & 5.86\\\\\n\t zucchini  & 6.30\\\\\n\\end{tabular}\n",
            "text/markdown": "\nA data.frame: 13915 × 2\n\n| Word &lt;chr&gt; | Val &lt;dbl&gt; |\n|---|---|\n| aardvark    | 6.26 |\n| abalone     | 5.30 |\n| abandon     | 2.84 |\n| abandonment | 2.63 |\n| abbey       | 5.85 |\n| abdomen     | 5.43 |\n| abdominal   | 4.48 |\n| abduct      | 2.42 |\n| abduction   | 2.05 |\n| abide       | 5.52 |\n| abiding     | 5.57 |\n| ability     | 7.00 |\n| abject      | 4.00 |\n| ablaze      | 5.15 |\n| able        | 6.64 |\n| abnormal    | 3.53 |\n| abnormality | 3.05 |\n| abode       | 5.28 |\n| abolish     | 3.84 |\n| abominable  | 4.05 |\n| abomination | 2.50 |\n| abort       | 3.10 |\n| abortion    | 2.58 |\n| abracadabra | 5.11 |\n| abrasive    | 4.26 |\n| abreast     | 4.62 |\n| abrupt      | 3.28 |\n| abscess     | 2.79 |\n| absence     | 3.86 |\n| absent      | 4.10 |\n| ⋮ | ⋮ |\n| young     | 6.31 |\n| youngster | 6.05 |\n| youth     | 6.53 |\n| youthful  | 6.89 |\n| yucky     | 3.36 |\n| yuletide  | 6.19 |\n| yummy     | 7.52 |\n| yuppie    | 4.64 |\n| zap       | 5.39 |\n| zeal      | 6.15 |\n| zebra     | 6.47 |\n| zenith    | 5.20 |\n| zephyr    | 5.50 |\n| zest      | 6.76 |\n| zeta      | 5.55 |\n| zigzag    | 5.18 |\n| zilch     | 3.89 |\n| zillion   | 5.81 |\n| zinc      | 4.79 |\n| zing      | 6.95 |\n| zip       | 5.06 |\n| zipper    | 5.11 |\n| zit       | 3.30 |\n| zodiac    | 5.55 |\n| zombie    | 3.57 |\n| zone      | 4.75 |\n| zoning    | 4.65 |\n| zoo       | 7.00 |\n| zoom      | 5.86 |\n| zucchini  | 6.30 |\n\n",
            "text/html": [
              "<table class=\"dataframe\">\n",
              "<caption>A data.frame: 13915 × 2</caption>\n",
              "<thead>\n",
              "\t<tr><th scope=col>Word</th><th scope=col>Val</th></tr>\n",
              "\t<tr><th scope=col>&lt;chr&gt;</th><th scope=col>&lt;dbl&gt;</th></tr>\n",
              "</thead>\n",
              "<tbody>\n",
              "\t<tr><td>aardvark   </td><td>6.26</td></tr>\n",
              "\t<tr><td>abalone    </td><td>5.30</td></tr>\n",
              "\t<tr><td>abandon    </td><td>2.84</td></tr>\n",
              "\t<tr><td>abandonment</td><td>2.63</td></tr>\n",
              "\t<tr><td>abbey      </td><td>5.85</td></tr>\n",
              "\t<tr><td>abdomen    </td><td>5.43</td></tr>\n",
              "\t<tr><td>abdominal  </td><td>4.48</td></tr>\n",
              "\t<tr><td>abduct     </td><td>2.42</td></tr>\n",
              "\t<tr><td>abduction  </td><td>2.05</td></tr>\n",
              "\t<tr><td>abide      </td><td>5.52</td></tr>\n",
              "\t<tr><td>abiding    </td><td>5.57</td></tr>\n",
              "\t<tr><td>ability    </td><td>7.00</td></tr>\n",
              "\t<tr><td>abject     </td><td>4.00</td></tr>\n",
              "\t<tr><td>ablaze     </td><td>5.15</td></tr>\n",
              "\t<tr><td>able       </td><td>6.64</td></tr>\n",
              "\t<tr><td>abnormal   </td><td>3.53</td></tr>\n",
              "\t<tr><td>abnormality</td><td>3.05</td></tr>\n",
              "\t<tr><td>abode      </td><td>5.28</td></tr>\n",
              "\t<tr><td>abolish    </td><td>3.84</td></tr>\n",
              "\t<tr><td>abominable </td><td>4.05</td></tr>\n",
              "\t<tr><td>abomination</td><td>2.50</td></tr>\n",
              "\t<tr><td>abort      </td><td>3.10</td></tr>\n",
              "\t<tr><td>abortion   </td><td>2.58</td></tr>\n",
              "\t<tr><td>abracadabra</td><td>5.11</td></tr>\n",
              "\t<tr><td>abrasive   </td><td>4.26</td></tr>\n",
              "\t<tr><td>abreast    </td><td>4.62</td></tr>\n",
              "\t<tr><td>abrupt     </td><td>3.28</td></tr>\n",
              "\t<tr><td>abscess    </td><td>2.79</td></tr>\n",
              "\t<tr><td>absence    </td><td>3.86</td></tr>\n",
              "\t<tr><td>absent     </td><td>4.10</td></tr>\n",
              "\t<tr><td>⋮</td><td>⋮</td></tr>\n",
              "\t<tr><td>young    </td><td>6.31</td></tr>\n",
              "\t<tr><td>youngster</td><td>6.05</td></tr>\n",
              "\t<tr><td>youth    </td><td>6.53</td></tr>\n",
              "\t<tr><td>youthful </td><td>6.89</td></tr>\n",
              "\t<tr><td>yucky    </td><td>3.36</td></tr>\n",
              "\t<tr><td>yuletide </td><td>6.19</td></tr>\n",
              "\t<tr><td>yummy    </td><td>7.52</td></tr>\n",
              "\t<tr><td>yuppie   </td><td>4.64</td></tr>\n",
              "\t<tr><td>zap      </td><td>5.39</td></tr>\n",
              "\t<tr><td>zeal     </td><td>6.15</td></tr>\n",
              "\t<tr><td>zebra    </td><td>6.47</td></tr>\n",
              "\t<tr><td>zenith   </td><td>5.20</td></tr>\n",
              "\t<tr><td>zephyr   </td><td>5.50</td></tr>\n",
              "\t<tr><td>zest     </td><td>6.76</td></tr>\n",
              "\t<tr><td>zeta     </td><td>5.55</td></tr>\n",
              "\t<tr><td>zigzag   </td><td>5.18</td></tr>\n",
              "\t<tr><td>zilch    </td><td>3.89</td></tr>\n",
              "\t<tr><td>zillion  </td><td>5.81</td></tr>\n",
              "\t<tr><td>zinc     </td><td>4.79</td></tr>\n",
              "\t<tr><td>zing     </td><td>6.95</td></tr>\n",
              "\t<tr><td>zip      </td><td>5.06</td></tr>\n",
              "\t<tr><td>zipper   </td><td>5.11</td></tr>\n",
              "\t<tr><td>zit      </td><td>3.30</td></tr>\n",
              "\t<tr><td>zodiac   </td><td>5.55</td></tr>\n",
              "\t<tr><td>zombie   </td><td>3.57</td></tr>\n",
              "\t<tr><td>zone     </td><td>4.75</td></tr>\n",
              "\t<tr><td>zoning   </td><td>4.65</td></tr>\n",
              "\t<tr><td>zoo      </td><td>7.00</td></tr>\n",
              "\t<tr><td>zoom     </td><td>5.86</td></tr>\n",
              "\t<tr><td>zucchini </td><td>6.30</td></tr>\n",
              "</tbody>\n",
              "</table>\n"
            ]
          },
          "metadata": {}
        }
      ]
    },
    {
      "cell_type": "code",
      "metadata": {
        "colab": {
          "base_uri": "https://localhost:8080/",
          "height": 573
        },
        "id": "0exuz4gc_lgC",
        "outputId": "d24112bc-fd59-4674-bf56-5a3617e0e8fa"
      },
      "source": [
        "#Plotting the histogram\n",
        "\n",
        "ggplot(Emo, aes(x = Val)) +\n",
        "geom_histogram(fill = 'yellow') +\n",
        "  geom_vline(aes(xintercept = mean(Emo$Val)), linetype = 1) +\n",
        "  geom_vline(aes(xintercept = quantile(Emo$Val, 0.95)), linetype = 1) +\n",
        "  geom_vline(aes(xintercept = quantile(Emo$Val, 0.68)), linetype =1) +\n",
        "  theme_minimal()\n"
      ],
      "execution_count": 52,
      "outputs": [
        {
          "output_type": "stream",
          "name": "stderr",
          "text": [
            "Warning message:\n",
            "“Use of `Emo$Val` is discouraged. Use `Val` instead.”\n",
            "Warning message:\n",
            "“Use of `Emo$Val` is discouraged. Use `Val` instead.”\n",
            "Warning message:\n",
            "“Use of `Emo$Val` is discouraged. Use `Val` instead.”\n",
            "`stat_bin()` using `bins = 30`. Pick better value with `binwidth`.\n",
            "\n"
          ]
        },
        {
          "output_type": "display_data",
          "data": {
            "image/png": "[encoded data removed]",
            "text/plain": [
              "plot without title"
            ]
          },
          "metadata": {
            "image/png": {
              "width": 420,
              "height": 420
            }
          }
        }
      ]
    },
    {
      "cell_type": "code",
      "metadata": {
        "colab": {
          "base_uri": "https://localhost:8080/",
          "height": 539
        },
        "id": "-zUfpLRuDJBZ",
        "outputId": "6ffe1937-4e7c-45ec-b37f-2265705e053a"
      },
      "source": [
        "#Exchanging geom_histogram() with geom_density()\n",
        "ggplot(Emo, aes(x = Val)) +\n",
        "geom_density(fill = 'black') +\n",
        "  geom_vline(aes(xintercept = mean(Emo$Val)), linetype = 1, col='yellow') +\n",
        "  geom_vline(aes(xintercept = quantile(Emo$Val, 0.95)), linetype = 1, col='yellow') +\n",
        "  geom_vline(aes(xintercept = quantile(Emo$Val, 0.68)), linetype =1, col='yellow') +\n",
        "  theme_minimal()"
      ],
      "execution_count": 55,
      "outputs": [
        {
          "output_type": "stream",
          "name": "stderr",
          "text": [
            "Warning message:\n",
            "“Use of `Emo$Val` is discouraged. Use `Val` instead.”\n",
            "Warning message:\n",
            "“Use of `Emo$Val` is discouraged. Use `Val` instead.”\n",
            "Warning message:\n",
            "“Use of `Emo$Val` is discouraged. Use `Val` instead.”\n"
          ]
        },
        {
          "output_type": "display_data",
          "data": {
            "image/png": "[encoded data removed]",
            "text/plain": [
              "plot without title"
            ]
          },
          "metadata": {
            "image/png": {
              "width": 420,
              "height": 420
            }
          }
        }
      ]
    }
  ]
}